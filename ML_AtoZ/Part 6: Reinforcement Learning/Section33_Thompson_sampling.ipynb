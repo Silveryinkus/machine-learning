{
 "cells": [
  {
   "cell_type": "markdown",
   "metadata": {},
   "source": [
    "## Machine Learning A-Z™\n",
    "\n",
    "© Kirill Eremenko, Hadelin de Ponteves, SuperDataScience Team |\n",
    "[Super Data Science](http://www.superdatascience.com)\n",
    "\n",
    "Part 6: Reinforcement Learning | Section 33: Thompson Sampling Algorithm\n",
    "\n",
    "Created on Tue Apr  19, 2019\n",
    "@author: yinka_ola\n",
    "\n",
    "---"
   ]
  },
  {
   "cell_type": "code",
   "execution_count": 2,
   "metadata": {},
   "outputs": [],
   "source": [
    "## ---\n",
    "\n",
    "## Reinforcement Learning:\n",
    "## Reinforcement Learning is a branch of Machine Learning, \n",
    "## also called Online Learning. It is used to solve interacting problems \n",
    "## where the data observed up to time t is considered to decide which action \n",
    "## to take at time t + 1. It is also used for Artificial Intelligence when \n",
    "## training machines to perform tasks such as walking. Desired outcomes provide \n",
    "## the AI with reward, undesired with punishment. Machines learn through trial and error.\n",
    "\n",
    "## ---\n",
    "\n",
    "## The multi-armed bandit problem:\n",
    "## 1-hand bandit = slot machines with 1 handle\n",
    "## multi-armed = multiple slot machines\n",
    "## each machine has an associated random distribution\n",
    "## your task is to figure out which one is the best\n",
    "## explore quickly to maximize return\n",
    "## regret: results when using non optimal method/machine\n",
    "\n",
    "## modern aplication: Advertising (i.e)\n",
    "## we have d arms (# of Ads displayed to users each time they connect to webpage)\n",
    "## which ad works the best? (Coca Cola AD example)\n",
    "## will users click or not click on the ad?\n",
    "## consider A/B testing -> pure exploration\n",
    "## combine exploration with exploitation\n",
    "## goal: how do we cut this down? // maximize total reward at each round\n",
    "## find the ideal balance/trade-off b/t exploration and exploitation\n",
    "\n",
    "## ---"
   ]
  },
  {
   "cell_type": "code",
   "execution_count": 1,
   "metadata": {},
   "outputs": [],
   "source": [
    "## Thompson Sampling Intuition:\n",
    "## it is a probabilistic algorithm\n",
    "## consider a scale (3 bandits)\n",
    "## here: no prior knowledge of current situation of machines\n",
    "## hence trial runs regards\n",
    "## Thompson sampling will construct a distribution/perception of current state\n",
    "## goal: recreating distrbtn of where the expected values might be\n",
    "\n",
    "\n",
    "## Steps to implement Thompson Sampling:\n",
    "## Bayesian inference // Bernoulli distribution\n",
    "## step 1: at each round n, pick 2 numbers for each ad\n",
    "## Ni1 = No when ad i gets a reward = 1 up to round n\n",
    "## Ni0 = No when ad i gets a reward = 0 up to round n\n",
    "## step 2: take random draw from distribution for each ad i\n",
    "## step 3: select the ad with the highest value from step 2\n",
    "\n",
    "## UCB vs. Thompson Sampling:\n",
    "## UCB is deterministic (straight forward) - no randomness in algorithm\n",
    "## with UCB, randomness is on the side of the machine\n",
    "## UCB update at every round, you need the previous round for next round \n",
    "\n",
    "## Thompson Sampling is probabilistic: we generate random value from distrbn\n",
    "## can accomodate delayed feedback\n",
    "## has an edge over Thompson sampling, update not required at every round\n",
    "## better empirical evidence\n"
   ]
  },
  {
   "cell_type": "code",
   "execution_count": 5,
   "metadata": {},
   "outputs": [],
   "source": [
    "## ---\n",
    "\n",
    "#Data Scenario: \n",
    "## Recall the car company selling affordable luxury SUV \n",
    "## On social network, marketing prepared 10 version great looking ads\n",
    "## They have a limited budget\n",
    "## find the best strategy + AD version that will lead to highest conversion rate\n",
    "## if user click on AD = 1 reward\n",
    "## if user does not  click = 0 reward\n",
    "## 10,00 users (rounds) on social network\n",
    "## strategy is dynamic, decides which ad to display based on past simulation\n",
    "## ---\n",
    "## the goal of algorithm is to maximize total reward\n",
    "## algorithm will pick value from the distribution\n",
    "## over the long run, it picks value close to the centre\n",
    "## we have generated our own 'bandit' configuration (what we think)\n",
    "## pull the lever (actual value) and refine \n",
    "## as we add more information, then distribution gets more refined\n",
    "\n",
    "## ---"
   ]
  },
  {
   "cell_type": "code",
   "execution_count": 15,
   "metadata": {},
   "outputs": [],
   "source": [
    "# Importing the libraries\n",
    "import pandas as pd #data\n",
    "import numpy as np #mathematics\n",
    "import os\n",
    "#plotting packages\n",
    "import matplotlib.pyplot as plt #plotting charts\n",
    "import seaborn as sns\n",
    "sns.set()\n",
    "%matplotlib inline\n",
    "plt.rcParams['figure.figsize'] = 10,5\n",
    "#ignore warnings\n",
    "import warnings\n",
    "warnings.filterwarnings('ignore')"
   ]
  },
  {
   "cell_type": "code",
   "execution_count": 16,
   "metadata": {},
   "outputs": [
    {
     "data": {
      "text/html": [
       "<div>\n",
       "<style scoped>\n",
       "    .dataframe tbody tr th:only-of-type {\n",
       "        vertical-align: middle;\n",
       "    }\n",
       "\n",
       "    .dataframe tbody tr th {\n",
       "        vertical-align: top;\n",
       "    }\n",
       "\n",
       "    .dataframe thead th {\n",
       "        text-align: right;\n",
       "    }\n",
       "</style>\n",
       "<table border=\"1\" class=\"dataframe\">\n",
       "  <thead>\n",
       "    <tr style=\"text-align: right;\">\n",
       "      <th></th>\n",
       "      <th>Ad 1</th>\n",
       "      <th>Ad 2</th>\n",
       "      <th>Ad 3</th>\n",
       "      <th>Ad 4</th>\n",
       "      <th>Ad 5</th>\n",
       "      <th>Ad 6</th>\n",
       "      <th>Ad 7</th>\n",
       "      <th>Ad 8</th>\n",
       "      <th>Ad 9</th>\n",
       "      <th>Ad 10</th>\n",
       "    </tr>\n",
       "  </thead>\n",
       "  <tbody>\n",
       "    <tr>\n",
       "      <th>0</th>\n",
       "      <td>1</td>\n",
       "      <td>0</td>\n",
       "      <td>0</td>\n",
       "      <td>0</td>\n",
       "      <td>1</td>\n",
       "      <td>0</td>\n",
       "      <td>0</td>\n",
       "      <td>0</td>\n",
       "      <td>1</td>\n",
       "      <td>0</td>\n",
       "    </tr>\n",
       "    <tr>\n",
       "      <th>1</th>\n",
       "      <td>0</td>\n",
       "      <td>0</td>\n",
       "      <td>0</td>\n",
       "      <td>0</td>\n",
       "      <td>0</td>\n",
       "      <td>0</td>\n",
       "      <td>0</td>\n",
       "      <td>0</td>\n",
       "      <td>1</td>\n",
       "      <td>0</td>\n",
       "    </tr>\n",
       "    <tr>\n",
       "      <th>2</th>\n",
       "      <td>0</td>\n",
       "      <td>0</td>\n",
       "      <td>0</td>\n",
       "      <td>0</td>\n",
       "      <td>0</td>\n",
       "      <td>0</td>\n",
       "      <td>0</td>\n",
       "      <td>0</td>\n",
       "      <td>0</td>\n",
       "      <td>0</td>\n",
       "    </tr>\n",
       "    <tr>\n",
       "      <th>3</th>\n",
       "      <td>0</td>\n",
       "      <td>1</td>\n",
       "      <td>0</td>\n",
       "      <td>0</td>\n",
       "      <td>0</td>\n",
       "      <td>0</td>\n",
       "      <td>0</td>\n",
       "      <td>1</td>\n",
       "      <td>0</td>\n",
       "      <td>0</td>\n",
       "    </tr>\n",
       "    <tr>\n",
       "      <th>4</th>\n",
       "      <td>0</td>\n",
       "      <td>0</td>\n",
       "      <td>0</td>\n",
       "      <td>0</td>\n",
       "      <td>0</td>\n",
       "      <td>0</td>\n",
       "      <td>0</td>\n",
       "      <td>0</td>\n",
       "      <td>0</td>\n",
       "      <td>0</td>\n",
       "    </tr>\n",
       "  </tbody>\n",
       "</table>\n",
       "</div>"
      ],
      "text/plain": [
       "   Ad 1  Ad 2  Ad 3  Ad 4  Ad 5  Ad 6  Ad 7  Ad 8  Ad 9  Ad 10\n",
       "0     1     0     0     0     1     0     0     0     1      0\n",
       "1     0     0     0     0     0     0     0     0     1      0\n",
       "2     0     0     0     0     0     0     0     0     0      0\n",
       "3     0     1     0     0     0     0     0     1     0      0\n",
       "4     0     0     0     0     0     0     0     0     0      0"
      ]
     },
     "execution_count": 16,
     "metadata": {},
     "output_type": "execute_result"
    }
   ],
   "source": [
    "# Importing the dataset\n",
    "dataset = pd.read_csv('Ads_CTR_Optimisation.csv')\n",
    "dataset.head()"
   ]
  },
  {
   "cell_type": "code",
   "execution_count": 17,
   "metadata": {},
   "outputs": [
    {
     "name": "stdout",
     "output_type": "stream",
     "text": [
      "1285\n"
     ]
    }
   ],
   "source": [
    "# Case 1: Implementing Random Selection\n",
    "import random\n",
    "N = 10000\n",
    "d = 10\n",
    "ads_selected = []\n",
    "total_reward = 0\n",
    "for n in range(0, N):\n",
    "    ad = random.randrange(d)\n",
    "    ads_selected.append(ad)\n",
    "    reward = dataset.values[n, ad]\n",
    "    total_reward = total_reward + reward\n",
    "print(total_reward)"
   ]
  },
  {
   "cell_type": "code",
   "execution_count": 18,
   "metadata": {},
   "outputs": [],
   "source": [
    "## Observation\n",
    "## Our total reward will is always be just under 1300 selections"
   ]
  },
  {
   "cell_type": "code",
   "execution_count": 19,
   "metadata": {},
   "outputs": [
    {
     "data": {
      "image/png": "[encoded data removed]",
      "text/plain": [
       "<Figure size 720x360 with 1 Axes>"
      ]
     },
     "metadata": {
      "needs_background": "light"
     },
     "output_type": "display_data"
    }
   ],
   "source": [
    "# Visualising the results\n",
    "plt.hist(ads_selected)\n",
    "plt.title('Histogram of ads selections')\n",
    "plt.xlabel('Ads')\n",
    "plt.ylabel('Number of times each ad was selected')\n",
    "plt.show()"
   ]
  },
  {
   "cell_type": "code",
   "execution_count": 20,
   "metadata": {},
   "outputs": [],
   "source": [
    "## Observation\n",
    "## a nearly uniform distribution plot"
   ]
  },
  {
   "cell_type": "code",
   "execution_count": 22,
   "metadata": {},
   "outputs": [
    {
     "name": "stdout",
     "output_type": "stream",
     "text": [
      "2178\n"
     ]
    }
   ],
   "source": [
    "## ---\n",
    "\n",
    "# Case 2: Implementing UCB\n",
    "## no simple package to implement, build from scratch\n",
    "## see UCB steps documentation\n",
    "import math\n",
    "N = 10000\n",
    "d = 10\n",
    "ads_selected = [] #list of ad seected at each round\n",
    "numbers_of_selections = [0] * d #vector of size d with just 0\n",
    "sums_of_rewards = [0] * d\n",
    "total_reward = 0 #declare initial value\n",
    "for n in range(0, N):\n",
    "    ad = 0 #initial to zero\n",
    "    max_upper_bound = 0 #initial to zero\n",
    "    for i in range(0, d):\n",
    "        if (numbers_of_selections[i] > 0):\n",
    "            average_reward = sums_of_rewards[i] / numbers_of_selections[i]\n",
    "            delta_i = math.sqrt(3/2 * math.log(n + 1) / numbers_of_selections[i])\n",
    "            upper_bound = average_reward + delta_i\n",
    "        else:\n",
    "            upper_bound = 1e400\n",
    "        if upper_bound > max_upper_bound:\n",
    "            max_upper_bound = upper_bound\n",
    "            ad = i\n",
    "    ads_selected.append(ad)\n",
    "    numbers_of_selections[ad] = numbers_of_selections[ad] + 1\n",
    "    reward = dataset.values[n, ad]\n",
    "    sums_of_rewards[ad] = sums_of_rewards[ad] + reward\n",
    "    total_reward = total_reward + reward\n",
    "\n",
    "print(total_reward)\n"
   ]
  },
  {
   "cell_type": "code",
   "execution_count": 23,
   "metadata": {},
   "outputs": [],
   "source": [
    "## Observation\n",
    "## Total reward: 2178\n",
    "## we have almost doubled the total reward of random selection\n",
    "## look at last round, algorithm should always select the optimal\n",
    "## as we get close to 10,000 we see that Ad version 5 is the most preferred\n",
    "## we doubled our selection rate and also descovered the best ad to show\n",
    "## Ad with highest  conversion"
   ]
  },
  {
   "cell_type": "code",
   "execution_count": 24,
   "metadata": {},
   "outputs": [
    {
     "data": {
      "image/png": "[encoded data removed]",
      "text/plain": [
       "<Figure size 720x360 with 1 Axes>"
      ]
     },
     "metadata": {
      "needs_background": "light"
     },
     "output_type": "display_data"
    }
   ],
   "source": [
    "# Visualising the results of ad selected\n",
    "plt.hist(ads_selected)\n",
    "plt.title('Histogram of ads selections')\n",
    "plt.xlabel('Ads')\n",
    "plt.ylabel('Number of times each ad was selected')\n",
    "plt.show()"
   ]
  },
  {
   "cell_type": "code",
   "execution_count": 25,
   "metadata": {},
   "outputs": [],
   "source": [
    "## Observation\n",
    "## Ad index 4 (5th Ad) was the most likely viewed ad\n",
    "## can we do better?\n",
    "## use thompson algorithm == do we get the same Ad version?"
   ]
  },
  {
   "cell_type": "code",
   "execution_count": 27,
   "metadata": {},
   "outputs": [
    {
     "name": "stdout",
     "output_type": "stream",
     "text": [
      "2614\n"
     ]
    }
   ],
   "source": [
    "## ---\n",
    "\n",
    "# Case 3: Implementing Thompson Sampling\n",
    "import random\n",
    "N = 10000\n",
    "d = 10\n",
    "ads_selected = []\n",
    "numbers_of_rewards_1 = [0] * d\n",
    "numbers_of_rewards_0 = [0] * d\n",
    "total_reward = 0\n",
    "for n in range(0, N):\n",
    "    ad = 0\n",
    "    max_random = 0\n",
    "    for i in range(0, d):\n",
    "        random_beta = random.betavariate(numbers_of_rewards_1[i] + 1, numbers_of_rewards_0[i] + 1)\n",
    "        if random_beta > max_random:\n",
    "            max_random = random_beta\n",
    "            ad = i\n",
    "    ads_selected.append(ad)\n",
    "    reward = dataset.values[n, ad]\n",
    "    if reward == 1:\n",
    "        numbers_of_rewards_1[ad] = numbers_of_rewards_1[ad] + 1\n",
    "    else:\n",
    "        numbers_of_rewards_0[ad] = numbers_of_rewards_0[ad] + 1\n",
    "    total_reward = total_reward + reward\n",
    "    \n",
    "print(total_reward)"
   ]
  },
  {
   "cell_type": "code",
   "execution_count": 28,
   "metadata": {},
   "outputs": [],
   "source": [
    "## Observation:\n",
    "## total reward = 2614\n",
    "## checking multiple random variable, we are around 2600\n",
    "## was the same Ad selected as UCB algorithom?"
   ]
  },
  {
   "cell_type": "code",
   "execution_count": 29,
   "metadata": {},
   "outputs": [
    {
     "data": {
      "image/png": "[encoded data removed]",
      "text/plain": [
       "<Figure size 720x360 with 1 Axes>"
      ]
     },
     "metadata": {
      "needs_background": "light"
     },
     "output_type": "display_data"
    }
   ],
   "source": [
    "# Visualising the results - Histogram\n",
    "plt.hist(ads_selected)\n",
    "plt.title('Histogram of ads selections')\n",
    "plt.xlabel('Ads')\n",
    "plt.ylabel('Number of times each ad was selected')\n",
    "plt.show()"
   ]
  },
  {
   "cell_type": "code",
   "execution_count": 30,
   "metadata": {},
   "outputs": [],
   "source": [
    "## indeed, the same ad was selected \n",
    "## Ad index 4 (5th Ad) was the most likely viewed ad"
   ]
  }
 ],
 "metadata": {
  "kernelspec": {
   "display_name": "Python 3",
   "language": "python",
   "name": "python3"
  },
  "language_info": {
   "codemirror_mode": {
    "name": "ipython",
    "version": 3
   },
   "file_extension": ".py",
   "mimetype": "text/x-python",
   "name": "python",
   "nbconvert_exporter": "python",
   "pygments_lexer": "ipython3",
   "version": "3.7.1"
  }
 },
 "nbformat": 4,
 "nbformat_minor": 2
}
